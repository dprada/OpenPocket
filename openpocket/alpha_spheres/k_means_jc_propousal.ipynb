{
 "cells": [
  {
   "cell_type": "markdown",
   "metadata": {},
   "source": [
    "K-means algorithm"
   ]
  },
  {
   "cell_type": "code",
   "execution_count": null,
   "metadata": {},
   "outputs": [],
   "source": [
    "from sklearn import datasets\n",
    "import matplotlib.pyplot as plt\n",
    "import numpy as np"
   ]
  },
  {
   "cell_type": "code",
   "execution_count": null,
   "metadata": {},
   "outputs": [],
   "source": [
    "dataset, membership, centers = datasets.make_blobs(n_samples=500, n_features=2,\n",
    "                                                   centers=3, return_centers=True,\n",
    "                                                   cluster_std=1.0)"
   ]
  },
  {
   "cell_type": "markdown",
   "metadata": {},
   "source": [
    "Why do I chosee to use a convex hull and a Voronoi tessellation?\n",
    "It's because I found in the sklearn (k-mean section) documentation that it's useful to employ\n",
    "a Voronoi tessellation method-like in order to get the centroids faster. \n",
    "So, I tried to do that, but I can't. I just start whit a random points, hopping that these very ones\n",
    "would be the best ones to start.\n",
    "I think the program could work as it is, but maybe it's something wrong or something cólud be change \n",
    "in order to make it work better.\n",
    "I would appreciate any coments and corrections.\n",
    "\n",
    "Postscript: I tried to run the program but the last cell haven't finished yet. I think that it's working because it haven't stop yet."
   ]
  },
  {
   "cell_type": "code",
   "execution_count": null,
   "metadata": {},
   "outputs": [],
   "source": [
    "from scipy.spatial import ConvexHull, convex_hull_plot_2d\n",
    "hull = ConvexHull(dataset)\n",
    "\n",
    "simplex_hull=[]\n",
    "for simplex in hull.simplices:\n",
    "    simplex_hull.append(simplex)"
   ]
  },
  {
   "cell_type": "code",
   "execution_count": null,
   "metadata": {},
   "outputs": [],
   "source": [
    "from scipy.spatial import Voronoi, voronoi_plot_2d\n",
    "vor = Voronoi(sim_hull, incremental=False)\n",
    "vertex_hull=vor.vertices\n",
    "index_vertex=[]\n",
    "for counter, vertex in enumerate(vertex_hull):\n",
    "    index_vertex.append([counter,vertex])"
   ]
  },
  {
   "cell_type": "code",
   "execution_count": null,
   "metadata": {},
   "outputs": [],
   "source": [
    "k_centroids=3\n",
    "n_points = len(dataset)\n",
    "random_points = np.zeros(shape=(k_centroids,2),dtype=float)\n",
    "for ii in range(0,k_centroids):\n",
    "    random_index = np.random.randint(0,len(index_vertex))\n",
    "    point_coordinates=vertex_hull[random_index]\n",
    "    done=True\n",
    "    if done is True:\n",
    "        random_points[ii,:]=point_coordinates\n",
    "print(random_points)   \n",
    "print(random_points[0])"
   ]
  },
  {
   "cell_type": "code",
   "execution_count": null,
   "metadata": {},
   "outputs": [],
   "source": [
    "from scipy.spatial.distance import euclidean as distance\n",
    "n_points = len(dataset)\n",
    "clustered = [[] for ii in range(k_centroids)]\n",
    "cluster_index=[]\n",
    "distances_to_centroid=[]\n",
    "cluster_point = np.zeros(shape=(n_points,k_centroids),dtype=float)\n",
    "improved_centroid=[[] for ii in range(k_centroids)]\n",
    "\n",
    "for ll in range(n_points):\n",
    "    done = False\n",
    "    while done is False:\n",
    "        distance_to_centroid = [distance(dataset[ll], random_points[yy]) for yy in range(k_centroids)]\n",
    "        distances_to_centroid.append(distance_to_centroid)\n",
    "        for yy in range(k_centroids):\n",
    "            if min(distances_to_centroid[ll]) == distances_to_centroid[ll][yy]:\n",
    "                cluster_point[ll][yy]=min(distances_to_centroid[ll])\n",
    "            if cluster_point[ll][yy] !=0:\n",
    "                clustered[yy].append(cluster_point[ll][yy])\n",
    "            if len(clustered[yy])>0:\n",
    "                improved_centroid[yy]=np.mean(clustered[yy])\n",
    "            elif len(clustered[yy])==0:\n",
    "                improved_centroid[yy]= random_points[yy]\n",
    "        done = True\n",
    "        distance_between_centroids = [distance(improved_centroid[yy], random_points[yy]) for yy in range(k_centroids)]\n",
    "        for dd in distance_between_centroids:\n",
    "            if dd > 200.0:\n",
    "                done = False\n",
    "                break\n",
    "        if done is True:\n",
    "            random_points[yy]=improved_centroid[yy]\n",
    "print(random_points)"
   ]
  }
 ],
 "metadata": {
  "kernelspec": {
   "display_name": "Python 3",
   "language": "python",
   "name": "python3"
  },
  "language_info": {
   "codemirror_mode": {
    "name": "ipython",
    "version": 3
   },
   "file_extension": ".py",
   "mimetype": "text/x-python",
   "name": "python",
   "nbconvert_exporter": "python",
   "pygments_lexer": "ipython3",
   "version": "3.8.5"
  }
 },
 "nbformat": 4,
 "nbformat_minor": 4
}
